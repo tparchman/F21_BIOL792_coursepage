{
 "cells": [
  {
   "cell_type": "markdown",
   "id": "7a700eb2",
   "metadata": {},
   "source": [
    "## Jupyter notebook demo, this is a subheader"
   ]
  },
  {
   "cell_type": "code",
   "execution_count": 2,
   "id": "88b84c9f",
   "metadata": {},
   "outputs": [],
   "source": [
    "import pandas as pd\n",
    "#whatever code you want here"
   ]
  },
  {
   "cell_type": "markdown",
   "id": "50319751",
   "metadata": {},
   "source": [
    "Here is an example of\n"
   ]
  },
  {
   "cell_type": "code",
   "execution_count": 3,
   "id": "471d295f",
   "metadata": {},
   "outputs": [
    {
     "name": "stdout",
     "output_type": "stream",
     "text": [
      "Hi there\n"
     ]
    }
   ],
   "source": [
    "print(\"Hi there\")"
   ]
  },
  {
   "cell_type": "markdown",
   "id": "cd9feece",
   "metadata": {},
   "source": []
  }
 ],
 "metadata": {
  "kernelspec": {
   "display_name": "Python 3",
   "language": "python",
   "name": "python3"
  },
  "language_info": {
   "codemirror_mode": {
    "name": "ipython",
    "version": 3
   },
   "file_extension": ".py",
   "mimetype": "text/x-python",
   "name": "python",
   "nbconvert_exporter": "python",
   "pygments_lexer": "ipython3",
   "version": "3.8.8"
  }
 },
 "nbformat": 4,
 "nbformat_minor": 5
}
