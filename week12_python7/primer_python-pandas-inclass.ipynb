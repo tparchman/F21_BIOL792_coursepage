{
 "cells": [
  {
   "cell_type": "markdown",
   "metadata": {},
   "source": [
    "# pandas - Python data analysis library\n",
    "\n",
    "**Author: Trevor Faske  \n",
    "Modified: 08/10/2021**\n",
    "\n",
    "pandas is a must learn tool for data science. It is a powerful python package and swiss army knife for all data analysis. \"The name is derived from the term 'panel data', an econometrics term for data sets that include observations over multiple time periods for the same individuals. Also a play on the phrase 'Python data analysis.'\" - wikipedia\n",
    "\n",
    "pandas works with the data structure called **DataFrame** (same as in R). This consists of a matrix with rows and columns and will very similar to an excel spreadsheet or csv file. pandas allows you to easily manipulate, filter, summarize, and merge data for downstream processing. pandas is part of the SciPy (https://www.scipy.org/) ecosystem so works great for plotting and data analysis. "
   ]
  },
  {
   "cell_type": "markdown",
   "metadata": {},
   "source": [
    "## Resources\n",
    "\n",
    "- https://github.com/jvns/pandas-cookbook\n",
    "- https://www.w3schools.com/python/ (great NumPy intro)\n",
    "- https://pandas.pydata.org/docs/getting_started/tutorials.html (community tutorials)\n",
    "- https://pandas.pydata.org/docs/user_guide/index.html"
   ]
  },
  {
   "cell_type": "markdown",
   "metadata": {},
   "source": [
    "## Installing libraries\n",
    "\n",
    "Python is extremely efficient and only has a few commands loaded and installed from the beginning. There are libraries we will have to install and import as needed to use. \n",
    "\n",
    "Everyone should have pip3 or conda available and these commands will be used to install needed libraries from the terminal. \n",
    "\n",
    "**If using pip3**:  \n",
    "\n",
    "`$ pip3 install numpy`   \n",
    "`$ pip3 install pandas`\n",
    "    \n",
    "You might get a permissions error. If so, install like:  \n",
    "`$ pip3 install --user pandas`\n",
    "\n",
    "**If using conda**:  \n",
    "\n",
    "`$ conda install -c anaconda numpy`  \n",
    "`$ conda install -c anaconda pandas`\n"
   ]
  },
  {
   "cell_type": "markdown",
   "metadata": {},
   "source": [
    "## Importing libraries\n",
    "\n",
    "Python only has a few base commands and is extremely effecient. Libraries must be imported before use to make the commands available. There is a few ways to import libraries by creating aliases or only accessing paticular functions within libraries. \n",
    "\n",
    "Basic import: \n",
    "\n",
    "`import numpy`  \n",
    "`import pandas`  \n",
    "\n",
    "\n",
    "Examples of more common ways of importing:  \n",
    "\n",
    "`import numpy,pandas` #import multiple libraries in single line  \n",
    "`import numpy as np` #import package as alias  \n",
    "`from pandas import DataFrame` #import only specific function from library\n",
    "\n",
    "Common aliases you will see when searching issues:  \n",
    "\n",
    "`import numpy as np`  \n",
    "`import pandas as pd`"
   ]
  },
  {
   "cell_type": "markdown",
   "metadata": {},
   "source": [
    "## Getting started with NumPy\n",
    "\n",
    "#### Resource: https://www.w3schools.com/python/numpy_intro.asp\n",
    "\n",
    "NumPy is a popular array – processing package of Python that also does a lot of mathmatical processes. Everything is array/matrix based and works faster than a list. pandas uses many of this same syntax so might be useful to know a few commands!"
   ]
  },
  {
   "cell_type": "markdown",
   "metadata": {},
   "source": [
    "### ndarrays\n",
    "\n",
    "import numpy"
   ]
  },
  {
   "cell_type": "code",
   "execution_count": 181,
   "metadata": {},
   "outputs": [],
   "source": [
    "import numpy as np "
   ]
  },
  {
   "cell_type": "markdown",
   "metadata": {},
   "source": [
    "#### create 1-D array"
   ]
  },
  {
   "cell_type": "code",
   "execution_count": 177,
   "metadata": {},
   "outputs": [
    {
     "name": "stdout",
     "output_type": "stream",
     "text": [
      "[1 3 5 2 4 6]\n"
     ]
    },
    {
     "data": {
      "text/plain": [
       "numpy.ndarray"
      ]
     },
     "execution_count": 177,
     "metadata": {},
     "output_type": "execute_result"
    }
   ],
   "source": [
    "d1 = np.array([1,3,5,2,4,6])\n",
    "print(d1)\n",
    "type(d1)"
   ]
  },
  {
   "cell_type": "markdown",
   "metadata": {},
   "source": [
    "#### create 2-D array"
   ]
  },
  {
   "cell_type": "code",
   "execution_count": 178,
   "metadata": {},
   "outputs": [
    {
     "name": "stdout",
     "output_type": "stream",
     "text": [
      "[[1 3 5]\n",
      " [2 4 6]]\n"
     ]
    }
   ],
   "source": [
    "d2 = np.array([[1,3,5],[2,4,6]])\n",
    "print(d2)"
   ]
  },
  {
   "cell_type": "markdown",
   "metadata": {},
   "source": [
    "#### get dimensions and total size"
   ]
  },
  {
   "cell_type": "code",
   "execution_count": 179,
   "metadata": {},
   "outputs": [
    {
     "name": "stdout",
     "output_type": "stream",
     "text": [
      "(2, 3)\n",
      "6\n"
     ]
    }
   ],
   "source": [
    "print(d2.shape) #rows, columns\n",
    "print(d2.size) "
   ]
  },
  {
   "cell_type": "markdown",
   "metadata": {},
   "source": [
    "### Accessing and indexing arrays work very similar to lists but with added dimension. Very similar to R indexing \n",
    "\n",
    "array[row,column] #REMEMBER starts at 0"
   ]
  },
  {
   "cell_type": "code",
   "execution_count": 180,
   "metadata": {},
   "outputs": [
    {
     "name": "stdout",
     "output_type": "stream",
     "text": [
      "2\n",
      "5\n"
     ]
    }
   ],
   "source": [
    "# 2nd row, 1st column \n",
    "print(d2[1,0]) \n",
    "\n",
    "# 1st row, 3rd column\n",
    "print(d2[0,2])"
   ]
  },
  {
   "cell_type": "markdown",
   "metadata": {},
   "source": [
    "#### Slicing works very similarly to lists"
   ]
  },
  {
   "cell_type": "code",
   "execution_count": 182,
   "metadata": {},
   "outputs": [
    {
     "name": "stdout",
     "output_type": "stream",
     "text": [
      "[2 4]\n"
     ]
    }
   ],
   "source": [
    "#extract first 2 elements of the 2nd row\n",
    "print(d2[1,:2])"
   ]
  },
  {
   "cell_type": "markdown",
   "metadata": {},
   "source": [
    "### arange and reshape array format"
   ]
  },
  {
   "cell_type": "code",
   "execution_count": 184,
   "metadata": {},
   "outputs": [
    {
     "name": "stdout",
     "output_type": "stream",
     "text": [
      "[1 3 5 2 4 6]\n"
     ]
    },
    {
     "data": {
      "text/plain": [
       "array([[1, 3, 5],\n",
       "       [2, 4, 6]])"
      ]
     },
     "execution_count": 184,
     "metadata": {},
     "output_type": "execute_result"
    }
   ],
   "source": [
    "d1 = np.array([1,3,5,2,4,6])\n",
    "print(d1)\n",
    "d1.reshape(2,3)"
   ]
  },
  {
   "cell_type": "code",
   "execution_count": 185,
   "metadata": {},
   "outputs": [
    {
     "data": {
      "text/plain": [
       "array([[1, 3, 5, 2, 4, 6]])"
      ]
     },
     "execution_count": 185,
     "metadata": {},
     "output_type": "execute_result"
    }
   ],
   "source": [
    "d2.reshape(1,6)  "
   ]
  },
  {
   "cell_type": "markdown",
   "metadata": {},
   "source": [
    "#### create 1D array 0-9"
   ]
  },
  {
   "cell_type": "code",
   "execution_count": 187,
   "metadata": {},
   "outputs": [
    {
     "data": {
      "text/plain": [
       "array([0, 1, 2, 3, 4, 5, 6, 7, 8, 9])"
      ]
     },
     "execution_count": 187,
     "metadata": {},
     "output_type": "execute_result"
    }
   ],
   "source": [
    "np.arange(10)"
   ]
  },
  {
   "cell_type": "markdown",
   "metadata": {},
   "source": [
    "#### array 0 to 50 by 5 (start,stop,step)"
   ]
  },
  {
   "cell_type": "code",
   "execution_count": 188,
   "metadata": {},
   "outputs": [
    {
     "data": {
      "text/plain": [
       "array([ 0,  5, 10, 15, 20, 25, 30, 35, 40, 45, 50])"
      ]
     },
     "execution_count": 188,
     "metadata": {},
     "output_type": "execute_result"
    }
   ],
   "source": [
    "np.arange(0,51,5)"
   ]
  },
  {
   "cell_type": "markdown",
   "metadata": {},
   "source": [
    "### Random number generator\n",
    "\n",
    "very useful for permutation techniques or simulating data\n",
    "\n",
    "import random from numpy"
   ]
  },
  {
   "cell_type": "code",
   "execution_count": 195,
   "metadata": {},
   "outputs": [],
   "source": [
    "from numpy import random"
   ]
  },
  {
   "cell_type": "markdown",
   "metadata": {},
   "source": [
    "#### Generate a random float from 0 to 1"
   ]
  },
  {
   "cell_type": "code",
   "execution_count": 199,
   "metadata": {},
   "outputs": [
    {
     "data": {
      "text/plain": [
       "0.9067011502597366"
      ]
     },
     "execution_count": 199,
     "metadata": {},
     "output_type": "execute_result"
    }
   ],
   "source": [
    "random.rand()"
   ]
  },
  {
   "cell_type": "markdown",
   "metadata": {},
   "source": [
    "#### generate 5 random float from 0 to 1"
   ]
  },
  {
   "cell_type": "code",
   "execution_count": 200,
   "metadata": {},
   "outputs": [
    {
     "data": {
      "text/plain": [
       "array([0.59207941, 0.04192336, 0.54585234, 0.90507268, 0.80355514])"
      ]
     },
     "execution_count": 200,
     "metadata": {},
     "output_type": "execute_result"
    }
   ],
   "source": [
    "random.rand(5)"
   ]
  },
  {
   "cell_type": "markdown",
   "metadata": {},
   "source": [
    "#### generate random integer between 0-99"
   ]
  },
  {
   "cell_type": "code",
   "execution_count": 203,
   "metadata": {},
   "outputs": [
    {
     "data": {
      "text/plain": [
       "39"
      ]
     },
     "execution_count": 203,
     "metadata": {},
     "output_type": "execute_result"
    }
   ],
   "source": [
    "random.randint(100)"
   ]
  },
  {
   "cell_type": "markdown",
   "metadata": {},
   "source": [
    "#### generate 7 random integer between 0-99"
   ]
  },
  {
   "cell_type": "code",
   "execution_count": 204,
   "metadata": {},
   "outputs": [
    {
     "data": {
      "text/plain": [
       "array([89,  2, 69, 35, 31, 44, 40])"
      ]
     },
     "execution_count": 204,
     "metadata": {},
     "output_type": "execute_result"
    }
   ],
   "source": [
    "random.randint(100, size = 7)"
   ]
  },
  {
   "cell_type": "markdown",
   "metadata": {},
   "source": [
    "#### generate 2D array random integer between 0-99"
   ]
  },
  {
   "cell_type": "code",
   "execution_count": 205,
   "metadata": {},
   "outputs": [
    {
     "data": {
      "text/plain": [
       "array([[ 5, 61, 26],\n",
       "       [ 1,  9, 59]])"
      ]
     },
     "execution_count": 205,
     "metadata": {},
     "output_type": "execute_result"
    }
   ],
   "source": [
    "random.randint(100, size=(2,3))"
   ]
  },
  {
   "cell_type": "markdown",
   "metadata": {},
   "source": [
    "### Choose or randomly sample list/array\n",
    "\n",
    "#### sample from list"
   ]
  },
  {
   "cell_type": "code",
   "execution_count": 210,
   "metadata": {},
   "outputs": [
    {
     "data": {
      "text/plain": [
       "3"
      ]
     },
     "execution_count": 210,
     "metadata": {},
     "output_type": "execute_result"
    }
   ],
   "source": [
    "random.choice([3, 5, 7, 9])"
   ]
  },
  {
   "cell_type": "markdown",
   "metadata": {},
   "source": [
    "#### sample 4 elements from list "
   ]
  },
  {
   "cell_type": "code",
   "execution_count": 212,
   "metadata": {},
   "outputs": [
    {
     "data": {
      "text/plain": [
       "array([[5, 5, 9, 9],\n",
       "       [5, 7, 9, 7],\n",
       "       [5, 7, 9, 5]])"
      ]
     },
     "execution_count": 212,
     "metadata": {},
     "output_type": "execute_result"
    }
   ],
   "source": [
    "random.choice([3, 5, 7, 9],size=(3,4))"
   ]
  },
  {
   "cell_type": "markdown",
   "metadata": {},
   "source": [
    "### Math (https://numpy.org/doc/stable/reference/routines.math.html)\n",
    "\n",
    "#### generate 100 random numbers from 1 to 1000 and get length, max, min, mean"
   ]
  },
  {
   "cell_type": "code",
   "execution_count": 213,
   "metadata": {},
   "outputs": [
    {
     "name": "stdout",
     "output_type": "stream",
     "text": [
      "100\n",
      "995\n",
      "10\n",
      "549.76\n"
     ]
    }
   ],
   "source": [
    "x = random.randint(1000,size=100)\n",
    "\n",
    "print(len(x))\n",
    "print(x.max())\n",
    "print(x.min())\n",
    "print(x.mean())"
   ]
  },
  {
   "cell_type": "markdown",
   "metadata": {},
   "source": [
    "## Getting started with pandas - finally to the good stuff! "
   ]
  },
  {
   "cell_type": "markdown",
   "metadata": {},
   "source": [
    "#### side note: \n",
    "\n",
    "Nice thing about jupyter notebooks is it accepts linux commands, just as the terminal"
   ]
  },
  {
   "cell_type": "code",
   "execution_count": 214,
   "metadata": {},
   "outputs": [],
   "source": [
    "### Change to pandas working directory\n",
    "pandas_dir = '/data/gpfs/home/tfaske/g/DataScience/Data_Science_For_Biology_II/Part.II_PythonProgramming/pandas/'"
   ]
  },
  {
   "cell_type": "code",
   "execution_count": 217,
   "metadata": {},
   "outputs": [
    {
     "name": "stdout",
     "output_type": "stream",
     "text": [
      "/data/gpfs/assoc/parchmanlab/tfaske/DataScience/Data_Science_For_Biology_II/Part.II_PythonProgramming/pandas\n"
     ]
    }
   ],
   "source": [
    "cd $pandas_dir"
   ]
  },
  {
   "cell_type": "code",
   "execution_count": 219,
   "metadata": {},
   "outputs": [],
   "source": [
    "!mkdir new_dir"
   ]
  },
  {
   "cell_type": "code",
   "execution_count": 220,
   "metadata": {},
   "outputs": [],
   "source": [
    "!rmdir new_dir"
   ]
  },
  {
   "cell_type": "markdown",
   "metadata": {},
   "source": [
    "### Read and write files (using DataFrame) \n",
    "\n",
    "Make sure you have **states_covid.csv** in your pandas directory from above\n",
    "\n",
    "**PATH**: You need your path to be correct to load files. Go to directory for day 5 in your terminal and type `pwd`. Copy this path in front of **states_covid.csv**"
   ]
  },
  {
   "cell_type": "code",
   "execution_count": 221,
   "metadata": {},
   "outputs": [
    {
     "data": {
      "text/html": [
       "<div>\n",
       "<style scoped>\n",
       "    .dataframe tbody tr th:only-of-type {\n",
       "        vertical-align: middle;\n",
       "    }\n",
       "\n",
       "    .dataframe tbody tr th {\n",
       "        vertical-align: top;\n",
       "    }\n",
       "\n",
       "    .dataframe thead th {\n",
       "        text-align: right;\n",
       "    }\n",
       "</style>\n",
       "<table border=\"1\" class=\"dataframe\">\n",
       "  <thead>\n",
       "    <tr style=\"text-align: right;\">\n",
       "      <th></th>\n",
       "      <th>date</th>\n",
       "      <th>state</th>\n",
       "      <th>death</th>\n",
       "      <th>deathConfirmed</th>\n",
       "      <th>deathIncrease</th>\n",
       "      <th>deathProbable</th>\n",
       "      <th>hospitalized</th>\n",
       "      <th>hospitalizedCumulative</th>\n",
       "      <th>hospitalizedCurrently</th>\n",
       "      <th>hospitalizedIncrease</th>\n",
       "      <th>...</th>\n",
       "      <th>totalTestResults</th>\n",
       "      <th>totalTestResultsIncrease</th>\n",
       "      <th>totalTestsAntibody</th>\n",
       "      <th>totalTestsAntigen</th>\n",
       "      <th>totalTestsPeopleAntibody</th>\n",
       "      <th>totalTestsPeopleAntigen</th>\n",
       "      <th>totalTestsPeopleViral</th>\n",
       "      <th>totalTestsPeopleViralIncrease</th>\n",
       "      <th>totalTestsViral</th>\n",
       "      <th>totalTestsViralIncrease</th>\n",
       "    </tr>\n",
       "  </thead>\n",
       "  <tbody>\n",
       "    <tr>\n",
       "      <th>0</th>\n",
       "      <td>2021-02-23</td>\n",
       "      <td>AK</td>\n",
       "      <td>290.0</td>\n",
       "      <td>NaN</td>\n",
       "      <td>0</td>\n",
       "      <td>NaN</td>\n",
       "      <td>1260.0</td>\n",
       "      <td>1260.0</td>\n",
       "      <td>38.0</td>\n",
       "      <td>9</td>\n",
       "      <td>...</td>\n",
       "      <td>1653425.0</td>\n",
       "      <td>4640</td>\n",
       "      <td>NaN</td>\n",
       "      <td>NaN</td>\n",
       "      <td>NaN</td>\n",
       "      <td>NaN</td>\n",
       "      <td>NaN</td>\n",
       "      <td>0</td>\n",
       "      <td>1653425.0</td>\n",
       "      <td>4640</td>\n",
       "    </tr>\n",
       "    <tr>\n",
       "      <th>1</th>\n",
       "      <td>2021-02-23</td>\n",
       "      <td>AL</td>\n",
       "      <td>9660.0</td>\n",
       "      <td>7575.0</td>\n",
       "      <td>68</td>\n",
       "      <td>2085.0</td>\n",
       "      <td>45250.0</td>\n",
       "      <td>45250.0</td>\n",
       "      <td>762.0</td>\n",
       "      <td>122</td>\n",
       "      <td>...</td>\n",
       "      <td>2265086.0</td>\n",
       "      <td>4825</td>\n",
       "      <td>NaN</td>\n",
       "      <td>NaN</td>\n",
       "      <td>115256.0</td>\n",
       "      <td>NaN</td>\n",
       "      <td>2265086.0</td>\n",
       "      <td>4825</td>\n",
       "      <td>NaN</td>\n",
       "      <td>0</td>\n",
       "    </tr>\n",
       "    <tr>\n",
       "      <th>2</th>\n",
       "      <td>2021-02-23</td>\n",
       "      <td>AR</td>\n",
       "      <td>5377.0</td>\n",
       "      <td>4321.0</td>\n",
       "      <td>14</td>\n",
       "      <td>1056.0</td>\n",
       "      <td>14617.0</td>\n",
       "      <td>14617.0</td>\n",
       "      <td>545.0</td>\n",
       "      <td>47</td>\n",
       "      <td>...</td>\n",
       "      <td>2609837.0</td>\n",
       "      <td>4779</td>\n",
       "      <td>NaN</td>\n",
       "      <td>NaN</td>\n",
       "      <td>NaN</td>\n",
       "      <td>436309.0</td>\n",
       "      <td>NaN</td>\n",
       "      <td>0</td>\n",
       "      <td>2609837.0</td>\n",
       "      <td>4779</td>\n",
       "    </tr>\n",
       "    <tr>\n",
       "      <th>3</th>\n",
       "      <td>2021-02-23</td>\n",
       "      <td>AS</td>\n",
       "      <td>0.0</td>\n",
       "      <td>NaN</td>\n",
       "      <td>0</td>\n",
       "      <td>NaN</td>\n",
       "      <td>NaN</td>\n",
       "      <td>NaN</td>\n",
       "      <td>NaN</td>\n",
       "      <td>0</td>\n",
       "      <td>...</td>\n",
       "      <td>2140.0</td>\n",
       "      <td>0</td>\n",
       "      <td>NaN</td>\n",
       "      <td>NaN</td>\n",
       "      <td>NaN</td>\n",
       "      <td>NaN</td>\n",
       "      <td>NaN</td>\n",
       "      <td>0</td>\n",
       "      <td>2140.0</td>\n",
       "      <td>0</td>\n",
       "    </tr>\n",
       "    <tr>\n",
       "      <th>4</th>\n",
       "      <td>2021-02-23</td>\n",
       "      <td>AZ</td>\n",
       "      <td>15650.0</td>\n",
       "      <td>13821.0</td>\n",
       "      <td>148</td>\n",
       "      <td>1829.0</td>\n",
       "      <td>57072.0</td>\n",
       "      <td>57072.0</td>\n",
       "      <td>1515.0</td>\n",
       "      <td>78</td>\n",
       "      <td>...</td>\n",
       "      <td>7478323.0</td>\n",
       "      <td>19439</td>\n",
       "      <td>435091.0</td>\n",
       "      <td>NaN</td>\n",
       "      <td>NaN</td>\n",
       "      <td>NaN</td>\n",
       "      <td>3709365.0</td>\n",
       "      <td>6212</td>\n",
       "      <td>7478323.0</td>\n",
       "      <td>19439</td>\n",
       "    </tr>\n",
       "  </tbody>\n",
       "</table>\n",
       "<p>5 rows × 41 columns</p>\n",
       "</div>"
      ],
      "text/plain": [
       "         date state    death  deathConfirmed  deathIncrease  deathProbable  \\\n",
       "0  2021-02-23    AK    290.0             NaN              0            NaN   \n",
       "1  2021-02-23    AL   9660.0          7575.0             68         2085.0   \n",
       "2  2021-02-23    AR   5377.0          4321.0             14         1056.0   \n",
       "3  2021-02-23    AS      0.0             NaN              0            NaN   \n",
       "4  2021-02-23    AZ  15650.0         13821.0            148         1829.0   \n",
       "\n",
       "   hospitalized  hospitalizedCumulative  hospitalizedCurrently  \\\n",
       "0        1260.0                  1260.0                   38.0   \n",
       "1       45250.0                 45250.0                  762.0   \n",
       "2       14617.0                 14617.0                  545.0   \n",
       "3           NaN                     NaN                    NaN   \n",
       "4       57072.0                 57072.0                 1515.0   \n",
       "\n",
       "   hospitalizedIncrease  ...  totalTestResults  totalTestResultsIncrease  \\\n",
       "0                     9  ...         1653425.0                      4640   \n",
       "1                   122  ...         2265086.0                      4825   \n",
       "2                    47  ...         2609837.0                      4779   \n",
       "3                     0  ...            2140.0                         0   \n",
       "4                    78  ...         7478323.0                     19439   \n",
       "\n",
       "   totalTestsAntibody  totalTestsAntigen  totalTestsPeopleAntibody  \\\n",
       "0                 NaN                NaN                       NaN   \n",
       "1                 NaN                NaN                  115256.0   \n",
       "2                 NaN                NaN                       NaN   \n",
       "3                 NaN                NaN                       NaN   \n",
       "4            435091.0                NaN                       NaN   \n",
       "\n",
       "   totalTestsPeopleAntigen  totalTestsPeopleViral  \\\n",
       "0                      NaN                    NaN   \n",
       "1                      NaN              2265086.0   \n",
       "2                 436309.0                    NaN   \n",
       "3                      NaN                    NaN   \n",
       "4                      NaN              3709365.0   \n",
       "\n",
       "   totalTestsPeopleViralIncrease  totalTestsViral  totalTestsViralIncrease  \n",
       "0                              0        1653425.0                     4640  \n",
       "1                           4825              NaN                        0  \n",
       "2                              0        2609837.0                     4779  \n",
       "3                              0           2140.0                        0  \n",
       "4                           6212        7478323.0                    19439  \n",
       "\n",
       "[5 rows x 41 columns]"
      ]
     },
     "execution_count": 221,
     "metadata": {},
     "output_type": "execute_result"
    }
   ],
   "source": [
    "import pandas as pd\n",
    "\n",
    "state_covid_df = pd.read_csv('states_covid.csv') #read in csv\n",
    "state_covid_df.head() #views the top 5 lines"
   ]
  },
  {
   "cell_type": "code",
   "execution_count": 222,
   "metadata": {},
   "outputs": [
    {
     "data": {
      "text/plain": [
       "(20108, 41)"
      ]
     },
     "execution_count": 222,
     "metadata": {},
     "output_type": "execute_result"
    }
   ],
   "source": [
    "state_covid_df.shape #row, column length"
   ]
  },
  {
   "cell_type": "code",
   "execution_count": 223,
   "metadata": {},
   "outputs": [
    {
     "data": {
      "text/plain": [
       "Index(['date', 'state', 'death', 'deathConfirmed', 'deathIncrease',\n",
       "       'deathProbable', 'hospitalized', 'hospitalizedCumulative',\n",
       "       'hospitalizedCurrently', 'hospitalizedIncrease', 'inIcuCumulative',\n",
       "       'inIcuCurrently', 'negative', 'negativeIncrease',\n",
       "       'negativeTestsAntibody', 'negativeTestsPeopleAntibody',\n",
       "       'negativeTestsViral', 'onVentilatorCumulative', 'onVentilatorCurrently',\n",
       "       'positive', 'positiveCasesViral', 'positiveIncrease', 'positiveScore',\n",
       "       'positiveTestsAntibody', 'positiveTestsAntigen',\n",
       "       'positiveTestsPeopleAntibody', 'positiveTestsPeopleAntigen',\n",
       "       'positiveTestsViral', 'recovered', 'totalTestEncountersViral',\n",
       "       'totalTestEncountersViralIncrease', 'totalTestResults',\n",
       "       'totalTestResultsIncrease', 'totalTestsAntibody', 'totalTestsAntigen',\n",
       "       'totalTestsPeopleAntibody', 'totalTestsPeopleAntigen',\n",
       "       'totalTestsPeopleViral', 'totalTestsPeopleViralIncrease',\n",
       "       'totalTestsViral', 'totalTestsViralIncrease'],\n",
       "      dtype='object')"
      ]
     },
     "execution_count": 223,
     "metadata": {},
     "output_type": "execute_result"
    }
   ],
   "source": [
    "state_covid_df.columns #views the column names"
   ]
  },
  {
   "cell_type": "markdown",
   "metadata": {},
   "source": [
    "While the above example is very straight forward with a clean csv file, **pd.read_csv()** is a very powerful tool for reading/parsing complicated data. For more information of all the commands it has, visit here: https://pandas.pydata.org/pandas-docs/stable/reference/api/pandas.read_csv.html. Otherwise, google is your best friend. Any issue you have, someone has figured it out already. \n",
    "\n",
    "One common issue with all data formats are *Dates*. Pandas has a way to read dates in without much headache and nice features for doing things with dates. You can also only select various columns, rename headers, remove headers, change what characters you want to be recognized as NAs, etc.\n",
    "\n",
    "Below is an example of some of the things you can do. "
   ]
  },
  {
   "cell_type": "code",
   "execution_count": 148,
   "metadata": {},
   "outputs": [
    {
     "data": {
      "text/html": [
       "<div>\n",
       "<style scoped>\n",
       "    .dataframe tbody tr th:only-of-type {\n",
       "        vertical-align: middle;\n",
       "    }\n",
       "\n",
       "    .dataframe tbody tr th {\n",
       "        vertical-align: top;\n",
       "    }\n",
       "\n",
       "    .dataframe thead th {\n",
       "        text-align: right;\n",
       "    }\n",
       "</style>\n",
       "<table border=\"1\" class=\"dataframe\">\n",
       "  <thead>\n",
       "    <tr style=\"text-align: right;\">\n",
       "      <th></th>\n",
       "      <th>date</th>\n",
       "      <th>state</th>\n",
       "      <th>death</th>\n",
       "      <th>negative</th>\n",
       "      <th>positive</th>\n",
       "      <th>totalTestResults</th>\n",
       "    </tr>\n",
       "  </thead>\n",
       "  <tbody>\n",
       "    <tr>\n",
       "      <th>0</th>\n",
       "      <td>2021-02-23</td>\n",
       "      <td>AK</td>\n",
       "      <td>290.0</td>\n",
       "      <td>NaN</td>\n",
       "      <td>55560.0</td>\n",
       "      <td>1653425.0</td>\n",
       "    </tr>\n",
       "    <tr>\n",
       "      <th>1</th>\n",
       "      <td>2021-02-23</td>\n",
       "      <td>AL</td>\n",
       "      <td>9660.0</td>\n",
       "      <td>1882180.0</td>\n",
       "      <td>488973.0</td>\n",
       "      <td>2265086.0</td>\n",
       "    </tr>\n",
       "    <tr>\n",
       "      <th>2</th>\n",
       "      <td>2021-02-23</td>\n",
       "      <td>AR</td>\n",
       "      <td>5377.0</td>\n",
       "      <td>2359571.0</td>\n",
       "      <td>316593.0</td>\n",
       "      <td>2609837.0</td>\n",
       "    </tr>\n",
       "    <tr>\n",
       "      <th>3</th>\n",
       "      <td>2021-02-23</td>\n",
       "      <td>AS</td>\n",
       "      <td>0.0</td>\n",
       "      <td>2140.0</td>\n",
       "      <td>0.0</td>\n",
       "      <td>2140.0</td>\n",
       "    </tr>\n",
       "    <tr>\n",
       "      <th>4</th>\n",
       "      <td>2021-02-23</td>\n",
       "      <td>AZ</td>\n",
       "      <td>15650.0</td>\n",
       "      <td>2953210.0</td>\n",
       "      <td>810658.0</td>\n",
       "      <td>7478323.0</td>\n",
       "    </tr>\n",
       "  </tbody>\n",
       "</table>\n",
       "</div>"
      ],
      "text/plain": [
       "        date state    death   negative  positive  totalTestResults\n",
       "0 2021-02-23    AK    290.0        NaN   55560.0         1653425.0\n",
       "1 2021-02-23    AL   9660.0  1882180.0  488973.0         2265086.0\n",
       "2 2021-02-23    AR   5377.0  2359571.0  316593.0         2609837.0\n",
       "3 2021-02-23    AS      0.0     2140.0       0.0            2140.0\n",
       "4 2021-02-23    AZ  15650.0  2953210.0  810658.0         7478323.0"
      ]
     },
     "execution_count": 148,
     "metadata": {},
     "output_type": "execute_result"
    }
   ],
   "source": [
    "state_covid_sub_df = pd.read_csv('states_covid.csv',usecols=['date','state','death','positive','negative','totalTestResults'],parse_dates=['date'],infer_datetime_format=True)\n",
    "state_covid_sub_df.head()"
   ]
  },
  {
   "cell_type": "markdown",
   "metadata": {},
   "source": [
    "#### check and make sure dtypes are right (dates specifically)"
   ]
  },
  {
   "cell_type": "code",
   "execution_count": 149,
   "metadata": {},
   "outputs": [
    {
     "data": {
      "text/plain": [
       "date                datetime64[ns]\n",
       "state                       object\n",
       "death                      float64\n",
       "negative                   float64\n",
       "positive                   float64\n",
       "totalTestResults           float64\n",
       "dtype: object"
      ]
     },
     "execution_count": 149,
     "metadata": {},
     "output_type": "execute_result"
    }
   ],
   "source": [
    "state_covid_sub_df.dtypes"
   ]
  },
  {
   "cell_type": "markdown",
   "metadata": {},
   "source": [
    "### write DataFrame to outfile \n",
    "(https://pandas.pydata.org/pandas-docs/stable/reference/api/pandas.DataFrame.to_csv.html)\n",
    "\n",
    "**note:** make sure you provide the path or are in the working directory you want"
   ]
  },
  {
   "cell_type": "code",
   "execution_count": 152,
   "metadata": {},
   "outputs": [],
   "source": [
    "outfile_path = pandas_dir + 'state_covid_sub.csv'\n",
    "#outfile_path = os.path.join(pandas_dir,'state_covid_sub.csv')\n",
    "state_covid_sub_df.to_csv(path_or_buf=outfile_path,index=False)"
   ]
  },
  {
   "cell_type": "markdown",
   "metadata": {},
   "source": [
    "## Manipulate DataFrame \n",
    "\n",
    "While read_csv is a powerful tool, we are going to subset, rename, change dtypes, and filter on our own just as a practice"
   ]
  },
  {
   "cell_type": "code",
   "execution_count": 228,
   "metadata": {},
   "outputs": [],
   "source": [
    "state_covid_df = pd.read_csv('states_covid.csv')"
   ]
  },
  {
   "cell_type": "markdown",
   "metadata": {},
   "source": [
    "#### Select only columns date, state, death, negative, postive, totalTestResults "
   ]
  },
  {
   "cell_type": "code",
   "execution_count": 229,
   "metadata": {},
   "outputs": [
    {
     "data": {
      "text/html": [
       "<div>\n",
       "<style scoped>\n",
       "    .dataframe tbody tr th:only-of-type {\n",
       "        vertical-align: middle;\n",
       "    }\n",
       "\n",
       "    .dataframe tbody tr th {\n",
       "        vertical-align: top;\n",
       "    }\n",
       "\n",
       "    .dataframe thead th {\n",
       "        text-align: right;\n",
       "    }\n",
       "</style>\n",
       "<table border=\"1\" class=\"dataframe\">\n",
       "  <thead>\n",
       "    <tr style=\"text-align: right;\">\n",
       "      <th></th>\n",
       "      <th>date</th>\n",
       "      <th>state</th>\n",
       "      <th>death</th>\n",
       "      <th>positive</th>\n",
       "      <th>negative</th>\n",
       "      <th>totalTestResults</th>\n",
       "    </tr>\n",
       "  </thead>\n",
       "  <tbody>\n",
       "    <tr>\n",
       "      <th>0</th>\n",
       "      <td>2021-02-23</td>\n",
       "      <td>AK</td>\n",
       "      <td>290.0</td>\n",
       "      <td>55560.0</td>\n",
       "      <td>NaN</td>\n",
       "      <td>1653425.0</td>\n",
       "    </tr>\n",
       "    <tr>\n",
       "      <th>1</th>\n",
       "      <td>2021-02-23</td>\n",
       "      <td>AL</td>\n",
       "      <td>9660.0</td>\n",
       "      <td>488973.0</td>\n",
       "      <td>1882180.0</td>\n",
       "      <td>2265086.0</td>\n",
       "    </tr>\n",
       "    <tr>\n",
       "      <th>2</th>\n",
       "      <td>2021-02-23</td>\n",
       "      <td>AR</td>\n",
       "      <td>5377.0</td>\n",
       "      <td>316593.0</td>\n",
       "      <td>2359571.0</td>\n",
       "      <td>2609837.0</td>\n",
       "    </tr>\n",
       "    <tr>\n",
       "      <th>3</th>\n",
       "      <td>2021-02-23</td>\n",
       "      <td>AS</td>\n",
       "      <td>0.0</td>\n",
       "      <td>0.0</td>\n",
       "      <td>2140.0</td>\n",
       "      <td>2140.0</td>\n",
       "    </tr>\n",
       "    <tr>\n",
       "      <th>4</th>\n",
       "      <td>2021-02-23</td>\n",
       "      <td>AZ</td>\n",
       "      <td>15650.0</td>\n",
       "      <td>810658.0</td>\n",
       "      <td>2953210.0</td>\n",
       "      <td>7478323.0</td>\n",
       "    </tr>\n",
       "  </tbody>\n",
       "</table>\n",
       "</div>"
      ],
      "text/plain": [
       "         date state    death  positive   negative  totalTestResults\n",
       "0  2021-02-23    AK    290.0   55560.0        NaN         1653425.0\n",
       "1  2021-02-23    AL   9660.0  488973.0  1882180.0         2265086.0\n",
       "2  2021-02-23    AR   5377.0  316593.0  2359571.0         2609837.0\n",
       "3  2021-02-23    AS      0.0       0.0     2140.0            2140.0\n",
       "4  2021-02-23    AZ  15650.0  810658.0  2953210.0         7478323.0"
      ]
     },
     "execution_count": 229,
     "metadata": {},
     "output_type": "execute_result"
    }
   ],
   "source": [
    "new_covid_df = state_covid_df[['date','state','death','positive','negative','totalTestResults']]\n",
    "new_covid_df.head() "
   ]
  },
  {
   "cell_type": "markdown",
   "metadata": {},
   "source": [
    "#### two ways to change column names totalTestResults to total \n",
    "first changes all colums:  \n",
    "`new_covid_df.columns = ['date','state','death','positive','negative','total']`  \n",
    "\n",
    "Second code below:  \n",
    "changes only selected column  \n",
    "axis = (0 = rows, 1 = columns)  \n",
    "inplace=True replaces the current DataFrame, same as (df = df.DOSOMETHING) "
   ]
  },
  {
   "cell_type": "code",
   "execution_count": 233,
   "metadata": {},
   "outputs": [],
   "source": [
    "new_covid_df.rename({'totalTestResults':'total'},axis=1,inplace=True)"
   ]
  },
  {
   "cell_type": "code",
   "execution_count": 234,
   "metadata": {},
   "outputs": [
    {
     "data": {
      "text/html": [
       "<div>\n",
       "<style scoped>\n",
       "    .dataframe tbody tr th:only-of-type {\n",
       "        vertical-align: middle;\n",
       "    }\n",
       "\n",
       "    .dataframe tbody tr th {\n",
       "        vertical-align: top;\n",
       "    }\n",
       "\n",
       "    .dataframe thead th {\n",
       "        text-align: right;\n",
       "    }\n",
       "</style>\n",
       "<table border=\"1\" class=\"dataframe\">\n",
       "  <thead>\n",
       "    <tr style=\"text-align: right;\">\n",
       "      <th></th>\n",
       "      <th>date</th>\n",
       "      <th>state</th>\n",
       "      <th>death</th>\n",
       "      <th>positive</th>\n",
       "      <th>negative</th>\n",
       "      <th>total</th>\n",
       "    </tr>\n",
       "  </thead>\n",
       "  <tbody>\n",
       "    <tr>\n",
       "      <th>0</th>\n",
       "      <td>2021-02-23</td>\n",
       "      <td>AK</td>\n",
       "      <td>290.0</td>\n",
       "      <td>55560.0</td>\n",
       "      <td>NaN</td>\n",
       "      <td>1653425.0</td>\n",
       "    </tr>\n",
       "    <tr>\n",
       "      <th>1</th>\n",
       "      <td>2021-02-23</td>\n",
       "      <td>AL</td>\n",
       "      <td>9660.0</td>\n",
       "      <td>488973.0</td>\n",
       "      <td>1882180.0</td>\n",
       "      <td>2265086.0</td>\n",
       "    </tr>\n",
       "    <tr>\n",
       "      <th>2</th>\n",
       "      <td>2021-02-23</td>\n",
       "      <td>AR</td>\n",
       "      <td>5377.0</td>\n",
       "      <td>316593.0</td>\n",
       "      <td>2359571.0</td>\n",
       "      <td>2609837.0</td>\n",
       "    </tr>\n",
       "    <tr>\n",
       "      <th>3</th>\n",
       "      <td>2021-02-23</td>\n",
       "      <td>AS</td>\n",
       "      <td>0.0</td>\n",
       "      <td>0.0</td>\n",
       "      <td>2140.0</td>\n",
       "      <td>2140.0</td>\n",
       "    </tr>\n",
       "    <tr>\n",
       "      <th>4</th>\n",
       "      <td>2021-02-23</td>\n",
       "      <td>AZ</td>\n",
       "      <td>15650.0</td>\n",
       "      <td>810658.0</td>\n",
       "      <td>2953210.0</td>\n",
       "      <td>7478323.0</td>\n",
       "    </tr>\n",
       "  </tbody>\n",
       "</table>\n",
       "</div>"
      ],
      "text/plain": [
       "         date state    death  positive   negative      total\n",
       "0  2021-02-23    AK    290.0   55560.0        NaN  1653425.0\n",
       "1  2021-02-23    AL   9660.0  488973.0  1882180.0  2265086.0\n",
       "2  2021-02-23    AR   5377.0  316593.0  2359571.0  2609837.0\n",
       "3  2021-02-23    AS      0.0       0.0     2140.0     2140.0\n",
       "4  2021-02-23    AZ  15650.0  810658.0  2953210.0  7478323.0"
      ]
     },
     "execution_count": 234,
     "metadata": {},
     "output_type": "execute_result"
    }
   ],
   "source": [
    "new_covid_df.head()"
   ]
  },
  {
   "cell_type": "markdown",
   "metadata": {},
   "source": [
    "#### two ways to reorder columns\n",
    "`new_covid_df = new_covid_df[['date','state','total','negative','positive','death']]`  \n",
    "`new_covid_df = new_covid_df.iloc[:,[0,1,5,4,3,2]]` #iloc is how you access df like a matrix"
   ]
  },
  {
   "cell_type": "code",
   "execution_count": 237,
   "metadata": {},
   "outputs": [
    {
     "data": {
      "text/plain": [
       "2359571.0"
      ]
     },
     "execution_count": 237,
     "metadata": {},
     "output_type": "execute_result"
    }
   ],
   "source": [
    "new_covid_df.iloc[2,3]"
   ]
  },
  {
   "cell_type": "code",
   "execution_count": 236,
   "metadata": {},
   "outputs": [],
   "source": [
    "new_covid_df = new_covid_df[['date','state','total','negative','positive','death']]"
   ]
  },
  {
   "cell_type": "markdown",
   "metadata": {},
   "source": [
    "#### add a column (positivity rate)\n",
    "`new_covid_df['rate'] = new_covid_df.positive / new_covid_df.total` #alternate way"
   ]
  },
  {
   "cell_type": "code",
   "execution_count": null,
   "metadata": {},
   "outputs": [],
   "source": [
    "new_covid_df.ra = new_covid_df.positive / new_covid_df.total #alternate way"
   ]
  },
  {
   "cell_type": "code",
   "execution_count": 238,
   "metadata": {},
   "outputs": [],
   "source": [
    "new_covid_df['rate'] = new_covid_df['positive'] / new_covid_df['total']"
   ]
  },
  {
   "cell_type": "markdown",
   "metadata": {},
   "source": [
    "#### Date manipulation\n",
    "There's lots of crazy stuff you can do with dates, not going into it too much but just letting you know you can do it and something worth looking into"
   ]
  },
  {
   "cell_type": "code",
   "execution_count": 239,
   "metadata": {},
   "outputs": [
    {
     "name": "stdout",
     "output_type": "stream",
     "text": [
      "<class 'pandas.core.frame.DataFrame'>\n",
      "RangeIndex: 20108 entries, 0 to 20107\n",
      "Data columns (total 7 columns):\n",
      "date        20108 non-null datetime64[ns]\n",
      "state       20108 non-null object\n",
      "total       20006 non-null float64\n",
      "negative    15640 non-null float64\n",
      "positive    19912 non-null float64\n",
      "death       19230 non-null float64\n",
      "rate        19824 non-null float64\n",
      "dtypes: datetime64[ns](1), float64(5), object(1)\n",
      "memory usage: 1.1+ MB\n"
     ]
    }
   ],
   "source": [
    "new_covid_df[\"date\"]= pd.to_datetime(new_covid_df[\"date\"],yearfirst=True) \n",
    "new_covid_df.info()"
   ]
  },
  {
   "cell_type": "markdown",
   "metadata": {},
   "source": [
    "#### add a column for day of year/julian date"
   ]
  },
  {
   "cell_type": "code",
   "execution_count": 240,
   "metadata": {},
   "outputs": [
    {
     "data": {
      "text/html": [
       "<div>\n",
       "<style scoped>\n",
       "    .dataframe tbody tr th:only-of-type {\n",
       "        vertical-align: middle;\n",
       "    }\n",
       "\n",
       "    .dataframe tbody tr th {\n",
       "        vertical-align: top;\n",
       "    }\n",
       "\n",
       "    .dataframe thead th {\n",
       "        text-align: right;\n",
       "    }\n",
       "</style>\n",
       "<table border=\"1\" class=\"dataframe\">\n",
       "  <thead>\n",
       "    <tr style=\"text-align: right;\">\n",
       "      <th></th>\n",
       "      <th>date</th>\n",
       "      <th>state</th>\n",
       "      <th>total</th>\n",
       "      <th>negative</th>\n",
       "      <th>positive</th>\n",
       "      <th>death</th>\n",
       "      <th>rate</th>\n",
       "      <th>dayofyear</th>\n",
       "    </tr>\n",
       "  </thead>\n",
       "  <tbody>\n",
       "    <tr>\n",
       "      <th>0</th>\n",
       "      <td>2021-02-23</td>\n",
       "      <td>AK</td>\n",
       "      <td>1653425.0</td>\n",
       "      <td>NaN</td>\n",
       "      <td>55560.0</td>\n",
       "      <td>290.0</td>\n",
       "      <td>0.033603</td>\n",
       "      <td>54</td>\n",
       "    </tr>\n",
       "    <tr>\n",
       "      <th>1</th>\n",
       "      <td>2021-02-23</td>\n",
       "      <td>AL</td>\n",
       "      <td>2265086.0</td>\n",
       "      <td>1882180.0</td>\n",
       "      <td>488973.0</td>\n",
       "      <td>9660.0</td>\n",
       "      <td>0.215874</td>\n",
       "      <td>54</td>\n",
       "    </tr>\n",
       "    <tr>\n",
       "      <th>2</th>\n",
       "      <td>2021-02-23</td>\n",
       "      <td>AR</td>\n",
       "      <td>2609837.0</td>\n",
       "      <td>2359571.0</td>\n",
       "      <td>316593.0</td>\n",
       "      <td>5377.0</td>\n",
       "      <td>0.121308</td>\n",
       "      <td>54</td>\n",
       "    </tr>\n",
       "    <tr>\n",
       "      <th>3</th>\n",
       "      <td>2021-02-23</td>\n",
       "      <td>AS</td>\n",
       "      <td>2140.0</td>\n",
       "      <td>2140.0</td>\n",
       "      <td>0.0</td>\n",
       "      <td>0.0</td>\n",
       "      <td>0.000000</td>\n",
       "      <td>54</td>\n",
       "    </tr>\n",
       "    <tr>\n",
       "      <th>4</th>\n",
       "      <td>2021-02-23</td>\n",
       "      <td>AZ</td>\n",
       "      <td>7478323.0</td>\n",
       "      <td>2953210.0</td>\n",
       "      <td>810658.0</td>\n",
       "      <td>15650.0</td>\n",
       "      <td>0.108401</td>\n",
       "      <td>54</td>\n",
       "    </tr>\n",
       "  </tbody>\n",
       "</table>\n",
       "</div>"
      ],
      "text/plain": [
       "        date state      total   negative  positive    death      rate  \\\n",
       "0 2021-02-23    AK  1653425.0        NaN   55560.0    290.0  0.033603   \n",
       "1 2021-02-23    AL  2265086.0  1882180.0  488973.0   9660.0  0.215874   \n",
       "2 2021-02-23    AR  2609837.0  2359571.0  316593.0   5377.0  0.121308   \n",
       "3 2021-02-23    AS     2140.0     2140.0       0.0      0.0  0.000000   \n",
       "4 2021-02-23    AZ  7478323.0  2953210.0  810658.0  15650.0  0.108401   \n",
       "\n",
       "   dayofyear  \n",
       "0         54  \n",
       "1         54  \n",
       "2         54  \n",
       "3         54  \n",
       "4         54  "
      ]
     },
     "execution_count": 240,
     "metadata": {},
     "output_type": "execute_result"
    }
   ],
   "source": [
    "new_covid_df['dayofyear'] = new_covid_df['date'].dt.dayofyear\n",
    "new_covid_df.head()"
   ]
  },
  {
   "cell_type": "markdown",
   "metadata": {},
   "source": [
    "#### subsetting/filtering data\n",
    "subset or filter on multiple columns and data types (numeric or string)\n",
    "\n",
    "First, we'll subset on Nevada only and peak in to what it is doing"
   ]
  },
  {
   "cell_type": "code",
   "execution_count": 85,
   "metadata": {},
   "outputs": [
    {
     "data": {
      "text/plain": [
       "0        False\n",
       "1        False\n",
       "2        False\n",
       "3        False\n",
       "4        False\n",
       "         ...  \n",
       "20103    False\n",
       "20104    False\n",
       "20105    False\n",
       "20106    False\n",
       "20107    False\n",
       "Name: state, Length: 20108, dtype: bool"
      ]
     },
     "execution_count": 85,
     "metadata": {},
     "output_type": "execute_result"
    }
   ],
   "source": [
    "new_covid_df.state == 'NV'"
   ]
  },
  {
   "cell_type": "markdown",
   "metadata": {},
   "source": [
    "You can't really see where but it is outputtig a list of boolean (True,False) in the order they are found. If you put this statement as an index, it will keep only the Trues\n",
    "\n",
    "**subsetting NV only**"
   ]
  },
  {
   "cell_type": "code",
   "execution_count": 241,
   "metadata": {},
   "outputs": [
    {
     "data": {
      "text/html": [
       "<div>\n",
       "<style scoped>\n",
       "    .dataframe tbody tr th:only-of-type {\n",
       "        vertical-align: middle;\n",
       "    }\n",
       "\n",
       "    .dataframe tbody tr th {\n",
       "        vertical-align: top;\n",
       "    }\n",
       "\n",
       "    .dataframe thead th {\n",
       "        text-align: right;\n",
       "    }\n",
       "</style>\n",
       "<table border=\"1\" class=\"dataframe\">\n",
       "  <thead>\n",
       "    <tr style=\"text-align: right;\">\n",
       "      <th></th>\n",
       "      <th>date</th>\n",
       "      <th>state</th>\n",
       "      <th>total</th>\n",
       "      <th>negative</th>\n",
       "      <th>positive</th>\n",
       "      <th>death</th>\n",
       "      <th>rate</th>\n",
       "      <th>dayofyear</th>\n",
       "    </tr>\n",
       "  </thead>\n",
       "  <tbody>\n",
       "    <tr>\n",
       "      <th>36</th>\n",
       "      <td>2021-02-23</td>\n",
       "      <td>NV</td>\n",
       "      <td>2678249.0</td>\n",
       "      <td>1106648.0</td>\n",
       "      <td>291543.0</td>\n",
       "      <td>4903.0</td>\n",
       "      <td>0.108856</td>\n",
       "      <td>54</td>\n",
       "    </tr>\n",
       "    <tr>\n",
       "      <th>92</th>\n",
       "      <td>2021-02-22</td>\n",
       "      <td>NV</td>\n",
       "      <td>2667800.0</td>\n",
       "      <td>1103209.0</td>\n",
       "      <td>291145.0</td>\n",
       "      <td>4882.0</td>\n",
       "      <td>0.109133</td>\n",
       "      <td>53</td>\n",
       "    </tr>\n",
       "    <tr>\n",
       "      <th>148</th>\n",
       "      <td>2021-02-21</td>\n",
       "      <td>NV</td>\n",
       "      <td>2662867.0</td>\n",
       "      <td>1101946.0</td>\n",
       "      <td>290972.0</td>\n",
       "      <td>4872.0</td>\n",
       "      <td>0.109270</td>\n",
       "      <td>52</td>\n",
       "    </tr>\n",
       "    <tr>\n",
       "      <th>204</th>\n",
       "      <td>2021-02-20</td>\n",
       "      <td>NV</td>\n",
       "      <td>2656833.0</td>\n",
       "      <td>1100139.0</td>\n",
       "      <td>290671.0</td>\n",
       "      <td>4868.0</td>\n",
       "      <td>0.109405</td>\n",
       "      <td>51</td>\n",
       "    </tr>\n",
       "    <tr>\n",
       "      <th>260</th>\n",
       "      <td>2021-02-19</td>\n",
       "      <td>NV</td>\n",
       "      <td>2650086.0</td>\n",
       "      <td>1098605.0</td>\n",
       "      <td>290300.0</td>\n",
       "      <td>4831.0</td>\n",
       "      <td>0.109544</td>\n",
       "      <td>50</td>\n",
       "    </tr>\n",
       "  </tbody>\n",
       "</table>\n",
       "</div>"
      ],
      "text/plain": [
       "          date state      total   negative  positive   death      rate  \\\n",
       "36  2021-02-23    NV  2678249.0  1106648.0  291543.0  4903.0  0.108856   \n",
       "92  2021-02-22    NV  2667800.0  1103209.0  291145.0  4882.0  0.109133   \n",
       "148 2021-02-21    NV  2662867.0  1101946.0  290972.0  4872.0  0.109270   \n",
       "204 2021-02-20    NV  2656833.0  1100139.0  290671.0  4868.0  0.109405   \n",
       "260 2021-02-19    NV  2650086.0  1098605.0  290300.0  4831.0  0.109544   \n",
       "\n",
       "     dayofyear  \n",
       "36          54  \n",
       "92          53  \n",
       "148         52  \n",
       "204         51  \n",
       "260         50  "
      ]
     },
     "execution_count": 241,
     "metadata": {},
     "output_type": "execute_result"
    }
   ],
   "source": [
    "NV_covid_df = new_covid_df[new_covid_df.state == 'NV']\n",
    "NV_covid_df.head()"
   ]
  },
  {
   "cell_type": "markdown",
   "metadata": {},
   "source": [
    "Let's do one more filtering on states and something else numeric\n",
    "\n",
    "| means or   \n",
    "& means and"
   ]
  },
  {
   "cell_type": "code",
   "execution_count": 100,
   "metadata": {},
   "outputs": [
    {
     "data": {
      "text/html": [
       "<div>\n",
       "<style scoped>\n",
       "    .dataframe tbody tr th:only-of-type {\n",
       "        vertical-align: middle;\n",
       "    }\n",
       "\n",
       "    .dataframe tbody tr th {\n",
       "        vertical-align: top;\n",
       "    }\n",
       "\n",
       "    .dataframe thead th {\n",
       "        text-align: right;\n",
       "    }\n",
       "</style>\n",
       "<table border=\"1\" class=\"dataframe\">\n",
       "  <thead>\n",
       "    <tr style=\"text-align: right;\">\n",
       "      <th></th>\n",
       "      <th>date</th>\n",
       "      <th>state</th>\n",
       "      <th>total</th>\n",
       "      <th>negative</th>\n",
       "      <th>positive</th>\n",
       "      <th>death</th>\n",
       "      <th>rate</th>\n",
       "      <th>dayofyear</th>\n",
       "    </tr>\n",
       "  </thead>\n",
       "  <tbody>\n",
       "    <tr>\n",
       "      <th>36</th>\n",
       "      <td>2021-02-23</td>\n",
       "      <td>NV</td>\n",
       "      <td>2678249.0</td>\n",
       "      <td>1106648.0</td>\n",
       "      <td>291543.0</td>\n",
       "      <td>4903.0</td>\n",
       "      <td>0.108856</td>\n",
       "      <td>54</td>\n",
       "    </tr>\n",
       "    <tr>\n",
       "      <th>92</th>\n",
       "      <td>2021-02-22</td>\n",
       "      <td>NV</td>\n",
       "      <td>2667800.0</td>\n",
       "      <td>1103209.0</td>\n",
       "      <td>291145.0</td>\n",
       "      <td>4882.0</td>\n",
       "      <td>0.109133</td>\n",
       "      <td>53</td>\n",
       "    </tr>\n",
       "    <tr>\n",
       "      <th>148</th>\n",
       "      <td>2021-02-21</td>\n",
       "      <td>NV</td>\n",
       "      <td>2662867.0</td>\n",
       "      <td>1101946.0</td>\n",
       "      <td>290972.0</td>\n",
       "      <td>4872.0</td>\n",
       "      <td>0.109270</td>\n",
       "      <td>52</td>\n",
       "    </tr>\n",
       "    <tr>\n",
       "      <th>204</th>\n",
       "      <td>2021-02-20</td>\n",
       "      <td>NV</td>\n",
       "      <td>2656833.0</td>\n",
       "      <td>1100139.0</td>\n",
       "      <td>290671.0</td>\n",
       "      <td>4868.0</td>\n",
       "      <td>0.109405</td>\n",
       "      <td>51</td>\n",
       "    </tr>\n",
       "    <tr>\n",
       "      <th>260</th>\n",
       "      <td>2021-02-19</td>\n",
       "      <td>NV</td>\n",
       "      <td>2650086.0</td>\n",
       "      <td>1098605.0</td>\n",
       "      <td>290300.0</td>\n",
       "      <td>4831.0</td>\n",
       "      <td>0.109544</td>\n",
       "      <td>50</td>\n",
       "    </tr>\n",
       "    <tr>\n",
       "      <th>...</th>\n",
       "      <td>...</td>\n",
       "      <td>...</td>\n",
       "      <td>...</td>\n",
       "      <td>...</td>\n",
       "      <td>...</td>\n",
       "      <td>...</td>\n",
       "      <td>...</td>\n",
       "      <td>...</td>\n",
       "    </tr>\n",
       "    <tr>\n",
       "      <th>17508</th>\n",
       "      <td>2020-04-17</td>\n",
       "      <td>NV</td>\n",
       "      <td>33881.0</td>\n",
       "      <td>26238.0</td>\n",
       "      <td>3524.0</td>\n",
       "      <td>162.0</td>\n",
       "      <td>0.104011</td>\n",
       "      <td>108</td>\n",
       "    </tr>\n",
       "    <tr>\n",
       "      <th>17564</th>\n",
       "      <td>2020-04-16</td>\n",
       "      <td>NV</td>\n",
       "      <td>32746.0</td>\n",
       "      <td>25130.0</td>\n",
       "      <td>3321.0</td>\n",
       "      <td>158.0</td>\n",
       "      <td>0.101417</td>\n",
       "      <td>107</td>\n",
       "    </tr>\n",
       "    <tr>\n",
       "      <th>17620</th>\n",
       "      <td>2020-04-15</td>\n",
       "      <td>NV</td>\n",
       "      <td>31276.0</td>\n",
       "      <td>24444.0</td>\n",
       "      <td>3211.0</td>\n",
       "      <td>150.0</td>\n",
       "      <td>0.102667</td>\n",
       "      <td>106</td>\n",
       "    </tr>\n",
       "    <tr>\n",
       "      <th>17676</th>\n",
       "      <td>2020-04-14</td>\n",
       "      <td>NV</td>\n",
       "      <td>30241.0</td>\n",
       "      <td>23573.0</td>\n",
       "      <td>3088.0</td>\n",
       "      <td>141.0</td>\n",
       "      <td>0.102113</td>\n",
       "      <td>105</td>\n",
       "    </tr>\n",
       "    <tr>\n",
       "      <th>17732</th>\n",
       "      <td>2020-04-13</td>\n",
       "      <td>NV</td>\n",
       "      <td>28978.0</td>\n",
       "      <td>22493.0</td>\n",
       "      <td>2971.0</td>\n",
       "      <td>133.0</td>\n",
       "      <td>0.102526</td>\n",
       "      <td>104</td>\n",
       "    </tr>\n",
       "  </tbody>\n",
       "</table>\n",
       "<p>97 rows × 8 columns</p>\n",
       "</div>"
      ],
      "text/plain": [
       "            date state      total   negative  positive   death      rate  \\\n",
       "36    2021-02-23    NV  2678249.0  1106648.0  291543.0  4903.0  0.108856   \n",
       "92    2021-02-22    NV  2667800.0  1103209.0  291145.0  4882.0  0.109133   \n",
       "148   2021-02-21    NV  2662867.0  1101946.0  290972.0  4872.0  0.109270   \n",
       "204   2021-02-20    NV  2656833.0  1100139.0  290671.0  4868.0  0.109405   \n",
       "260   2021-02-19    NV  2650086.0  1098605.0  290300.0  4831.0  0.109544   \n",
       "...          ...   ...        ...        ...       ...     ...       ...   \n",
       "17508 2020-04-17    NV    33881.0    26238.0    3524.0   162.0  0.104011   \n",
       "17564 2020-04-16    NV    32746.0    25130.0    3321.0   158.0  0.101417   \n",
       "17620 2020-04-15    NV    31276.0    24444.0    3211.0   150.0  0.102667   \n",
       "17676 2020-04-14    NV    30241.0    23573.0    3088.0   141.0  0.102113   \n",
       "17732 2020-04-13    NV    28978.0    22493.0    2971.0   133.0  0.102526   \n",
       "\n",
       "       dayofyear  \n",
       "36            54  \n",
       "92            53  \n",
       "148           52  \n",
       "204           51  \n",
       "260           50  \n",
       "...          ...  \n",
       "17508        108  \n",
       "17564        107  \n",
       "17620        106  \n",
       "17676        105  \n",
       "17732        104  \n",
       "\n",
       "[97 rows x 8 columns]"
      ]
     },
     "execution_count": 100,
     "metadata": {},
     "output_type": "execute_result"
    }
   ],
   "source": [
    "new_covid_df[(new_covid_df.state == 'NV') & (new_covid_df.rate > 0.10)]"
   ]
  },
  {
   "cell_type": "markdown",
   "metadata": {},
   "source": [
    "df.query() is another way that might look a little cleaner for more complicated filtering  \n",
    "be careful with syntax of quotations "
   ]
  },
  {
   "cell_type": "code",
   "execution_count": 242,
   "metadata": {},
   "outputs": [
    {
     "data": {
      "text/html": [
       "<div>\n",
       "<style scoped>\n",
       "    .dataframe tbody tr th:only-of-type {\n",
       "        vertical-align: middle;\n",
       "    }\n",
       "\n",
       "    .dataframe tbody tr th {\n",
       "        vertical-align: top;\n",
       "    }\n",
       "\n",
       "    .dataframe thead th {\n",
       "        text-align: right;\n",
       "    }\n",
       "</style>\n",
       "<table border=\"1\" class=\"dataframe\">\n",
       "  <thead>\n",
       "    <tr style=\"text-align: right;\">\n",
       "      <th></th>\n",
       "      <th>date</th>\n",
       "      <th>state</th>\n",
       "      <th>total</th>\n",
       "      <th>negative</th>\n",
       "      <th>positive</th>\n",
       "      <th>death</th>\n",
       "      <th>rate</th>\n",
       "      <th>dayofyear</th>\n",
       "    </tr>\n",
       "  </thead>\n",
       "  <tbody>\n",
       "    <tr>\n",
       "      <th>36</th>\n",
       "      <td>2021-02-23</td>\n",
       "      <td>NV</td>\n",
       "      <td>2678249.0</td>\n",
       "      <td>1106648.0</td>\n",
       "      <td>291543.0</td>\n",
       "      <td>4903.0</td>\n",
       "      <td>0.108856</td>\n",
       "      <td>54</td>\n",
       "    </tr>\n",
       "    <tr>\n",
       "      <th>92</th>\n",
       "      <td>2021-02-22</td>\n",
       "      <td>NV</td>\n",
       "      <td>2667800.0</td>\n",
       "      <td>1103209.0</td>\n",
       "      <td>291145.0</td>\n",
       "      <td>4882.0</td>\n",
       "      <td>0.109133</td>\n",
       "      <td>53</td>\n",
       "    </tr>\n",
       "    <tr>\n",
       "      <th>148</th>\n",
       "      <td>2021-02-21</td>\n",
       "      <td>NV</td>\n",
       "      <td>2662867.0</td>\n",
       "      <td>1101946.0</td>\n",
       "      <td>290972.0</td>\n",
       "      <td>4872.0</td>\n",
       "      <td>0.109270</td>\n",
       "      <td>52</td>\n",
       "    </tr>\n",
       "    <tr>\n",
       "      <th>204</th>\n",
       "      <td>2021-02-20</td>\n",
       "      <td>NV</td>\n",
       "      <td>2656833.0</td>\n",
       "      <td>1100139.0</td>\n",
       "      <td>290671.0</td>\n",
       "      <td>4868.0</td>\n",
       "      <td>0.109405</td>\n",
       "      <td>51</td>\n",
       "    </tr>\n",
       "    <tr>\n",
       "      <th>260</th>\n",
       "      <td>2021-02-19</td>\n",
       "      <td>NV</td>\n",
       "      <td>2650086.0</td>\n",
       "      <td>1098605.0</td>\n",
       "      <td>290300.0</td>\n",
       "      <td>4831.0</td>\n",
       "      <td>0.109544</td>\n",
       "      <td>50</td>\n",
       "    </tr>\n",
       "    <tr>\n",
       "      <th>...</th>\n",
       "      <td>...</td>\n",
       "      <td>...</td>\n",
       "      <td>...</td>\n",
       "      <td>...</td>\n",
       "      <td>...</td>\n",
       "      <td>...</td>\n",
       "      <td>...</td>\n",
       "      <td>...</td>\n",
       "    </tr>\n",
       "    <tr>\n",
       "      <th>17508</th>\n",
       "      <td>2020-04-17</td>\n",
       "      <td>NV</td>\n",
       "      <td>33881.0</td>\n",
       "      <td>26238.0</td>\n",
       "      <td>3524.0</td>\n",
       "      <td>162.0</td>\n",
       "      <td>0.104011</td>\n",
       "      <td>108</td>\n",
       "    </tr>\n",
       "    <tr>\n",
       "      <th>17564</th>\n",
       "      <td>2020-04-16</td>\n",
       "      <td>NV</td>\n",
       "      <td>32746.0</td>\n",
       "      <td>25130.0</td>\n",
       "      <td>3321.0</td>\n",
       "      <td>158.0</td>\n",
       "      <td>0.101417</td>\n",
       "      <td>107</td>\n",
       "    </tr>\n",
       "    <tr>\n",
       "      <th>17620</th>\n",
       "      <td>2020-04-15</td>\n",
       "      <td>NV</td>\n",
       "      <td>31276.0</td>\n",
       "      <td>24444.0</td>\n",
       "      <td>3211.0</td>\n",
       "      <td>150.0</td>\n",
       "      <td>0.102667</td>\n",
       "      <td>106</td>\n",
       "    </tr>\n",
       "    <tr>\n",
       "      <th>17676</th>\n",
       "      <td>2020-04-14</td>\n",
       "      <td>NV</td>\n",
       "      <td>30241.0</td>\n",
       "      <td>23573.0</td>\n",
       "      <td>3088.0</td>\n",
       "      <td>141.0</td>\n",
       "      <td>0.102113</td>\n",
       "      <td>105</td>\n",
       "    </tr>\n",
       "    <tr>\n",
       "      <th>17732</th>\n",
       "      <td>2020-04-13</td>\n",
       "      <td>NV</td>\n",
       "      <td>28978.0</td>\n",
       "      <td>22493.0</td>\n",
       "      <td>2971.0</td>\n",
       "      <td>133.0</td>\n",
       "      <td>0.102526</td>\n",
       "      <td>104</td>\n",
       "    </tr>\n",
       "  </tbody>\n",
       "</table>\n",
       "<p>97 rows × 8 columns</p>\n",
       "</div>"
      ],
      "text/plain": [
       "            date state      total   negative  positive   death      rate  \\\n",
       "36    2021-02-23    NV  2678249.0  1106648.0  291543.0  4903.0  0.108856   \n",
       "92    2021-02-22    NV  2667800.0  1103209.0  291145.0  4882.0  0.109133   \n",
       "148   2021-02-21    NV  2662867.0  1101946.0  290972.0  4872.0  0.109270   \n",
       "204   2021-02-20    NV  2656833.0  1100139.0  290671.0  4868.0  0.109405   \n",
       "260   2021-02-19    NV  2650086.0  1098605.0  290300.0  4831.0  0.109544   \n",
       "...          ...   ...        ...        ...       ...     ...       ...   \n",
       "17508 2020-04-17    NV    33881.0    26238.0    3524.0   162.0  0.104011   \n",
       "17564 2020-04-16    NV    32746.0    25130.0    3321.0   158.0  0.101417   \n",
       "17620 2020-04-15    NV    31276.0    24444.0    3211.0   150.0  0.102667   \n",
       "17676 2020-04-14    NV    30241.0    23573.0    3088.0   141.0  0.102113   \n",
       "17732 2020-04-13    NV    28978.0    22493.0    2971.0   133.0  0.102526   \n",
       "\n",
       "       dayofyear  \n",
       "36            54  \n",
       "92            53  \n",
       "148           52  \n",
       "204           51  \n",
       "260           50  \n",
       "...          ...  \n",
       "17508        108  \n",
       "17564        107  \n",
       "17620        106  \n",
       "17676        105  \n",
       "17732        104  \n",
       "\n",
       "[97 rows x 8 columns]"
      ]
     },
     "execution_count": 242,
     "metadata": {},
     "output_type": "execute_result"
    }
   ],
   "source": [
    "new_covid_df.query(\"state == 'NV' & rate > 0.10\")"
   ]
  },
  {
   "cell_type": "markdown",
   "metadata": {},
   "source": [
    "### Sort dataframe \n",
    "https://pandas.pydata.org/pandas-docs/stable/reference/api/pandas.DataFrame.sort_values.html\n",
    "\n",
    "**sort and select top 5 positive days**"
   ]
  },
  {
   "cell_type": "code",
   "execution_count": 243,
   "metadata": {},
   "outputs": [
    {
     "data": {
      "text/html": [
       "<div>\n",
       "<style scoped>\n",
       "    .dataframe tbody tr th:only-of-type {\n",
       "        vertical-align: middle;\n",
       "    }\n",
       "\n",
       "    .dataframe tbody tr th {\n",
       "        vertical-align: top;\n",
       "    }\n",
       "\n",
       "    .dataframe thead th {\n",
       "        text-align: right;\n",
       "    }\n",
       "</style>\n",
       "<table border=\"1\" class=\"dataframe\">\n",
       "  <thead>\n",
       "    <tr style=\"text-align: right;\">\n",
       "      <th></th>\n",
       "      <th>date</th>\n",
       "      <th>state</th>\n",
       "      <th>total</th>\n",
       "      <th>negative</th>\n",
       "      <th>positive</th>\n",
       "      <th>death</th>\n",
       "      <th>rate</th>\n",
       "      <th>dayofyear</th>\n",
       "    </tr>\n",
       "  </thead>\n",
       "  <tbody>\n",
       "    <tr>\n",
       "      <th>5</th>\n",
       "      <td>2021-02-23</td>\n",
       "      <td>CA</td>\n",
       "      <td>47513367.0</td>\n",
       "      <td>NaN</td>\n",
       "      <td>3450058.0</td>\n",
       "      <td>49563.0</td>\n",
       "      <td>0.072612</td>\n",
       "      <td>54</td>\n",
       "    </tr>\n",
       "    <tr>\n",
       "      <th>61</th>\n",
       "      <td>2021-02-22</td>\n",
       "      <td>CA</td>\n",
       "      <td>47320802.0</td>\n",
       "      <td>NaN</td>\n",
       "      <td>3446611.0</td>\n",
       "      <td>49338.0</td>\n",
       "      <td>0.072835</td>\n",
       "      <td>53</td>\n",
       "    </tr>\n",
       "    <tr>\n",
       "      <th>117</th>\n",
       "      <td>2021-02-21</td>\n",
       "      <td>CA</td>\n",
       "      <td>47043348.0</td>\n",
       "      <td>NaN</td>\n",
       "      <td>3441946.0</td>\n",
       "      <td>49105.0</td>\n",
       "      <td>0.073165</td>\n",
       "      <td>52</td>\n",
       "    </tr>\n",
       "    <tr>\n",
       "      <th>173</th>\n",
       "      <td>2021-02-20</td>\n",
       "      <td>CA</td>\n",
       "      <td>46813876.0</td>\n",
       "      <td>NaN</td>\n",
       "      <td>3435186.0</td>\n",
       "      <td>48825.0</td>\n",
       "      <td>0.073380</td>\n",
       "      <td>51</td>\n",
       "    </tr>\n",
       "    <tr>\n",
       "      <th>229</th>\n",
       "      <td>2021-02-19</td>\n",
       "      <td>CA</td>\n",
       "      <td>46621654.0</td>\n",
       "      <td>NaN</td>\n",
       "      <td>3428518.0</td>\n",
       "      <td>48344.0</td>\n",
       "      <td>0.073539</td>\n",
       "      <td>50</td>\n",
       "    </tr>\n",
       "  </tbody>\n",
       "</table>\n",
       "</div>"
      ],
      "text/plain": [
       "          date state       total  negative   positive    death      rate  \\\n",
       "5   2021-02-23    CA  47513367.0       NaN  3450058.0  49563.0  0.072612   \n",
       "61  2021-02-22    CA  47320802.0       NaN  3446611.0  49338.0  0.072835   \n",
       "117 2021-02-21    CA  47043348.0       NaN  3441946.0  49105.0  0.073165   \n",
       "173 2021-02-20    CA  46813876.0       NaN  3435186.0  48825.0  0.073380   \n",
       "229 2021-02-19    CA  46621654.0       NaN  3428518.0  48344.0  0.073539   \n",
       "\n",
       "     dayofyear  \n",
       "5           54  \n",
       "61          53  \n",
       "117         52  \n",
       "173         51  \n",
       "229         50  "
      ]
     },
     "execution_count": 243,
     "metadata": {},
     "output_type": "execute_result"
    }
   ],
   "source": [
    "new_covid_df.sort_values('positive',ascending=False,inplace=True)\n",
    "new_covid_df.head()"
   ]
  },
  {
   "cell_type": "markdown",
   "metadata": {},
   "source": [
    "## Creating a DataFrame\n",
    "\n",
    "There are a few different ways to create a DataFrame from scratch or non-csv/excel formatted data\n",
    "\n",
    "### DataFrame from NumPy  \n",
    "ndarray formats translate nicely into DataFrames. Let's generate some fake data using the random function in NumPy to demonstrate. Say this made up data is different sites and persons ratings (0-5) of 8 GREAT Nicholas Cage movies. "
   ]
  },
  {
   "cell_type": "code",
   "execution_count": 255,
   "metadata": {},
   "outputs": [],
   "source": [
    "###generate a random array (8 rows, 6 columns) with values ranging 0-4  \n",
    "movieRank_np = random.randint(5, size=(8,6))"
   ]
  },
  {
   "cell_type": "markdown",
   "metadata": {},
   "source": [
    "Lets make up some column names for this data  "
   ]
  },
  {
   "cell_type": "code",
   "execution_count": 256,
   "metadata": {},
   "outputs": [],
   "source": [
    "col_names = ['RottenTomatoes','IMBD','MovieCritic','Julie','Trevor','Jahner']\n",
    "movieRank_df = pd.DataFrame(movieRank_np,columns=col_names)"
   ]
  },
  {
   "cell_type": "markdown",
   "metadata": {},
   "source": [
    "Lets add a column for movie titles and make them the index as well"
   ]
  },
  {
   "cell_type": "code",
   "execution_count": 257,
   "metadata": {},
   "outputs": [
    {
     "data": {
      "text/html": [
       "<div>\n",
       "<style scoped>\n",
       "    .dataframe tbody tr th:only-of-type {\n",
       "        vertical-align: middle;\n",
       "    }\n",
       "\n",
       "    .dataframe tbody tr th {\n",
       "        vertical-align: top;\n",
       "    }\n",
       "\n",
       "    .dataframe thead th {\n",
       "        text-align: right;\n",
       "    }\n",
       "</style>\n",
       "<table border=\"1\" class=\"dataframe\">\n",
       "  <thead>\n",
       "    <tr style=\"text-align: right;\">\n",
       "      <th></th>\n",
       "      <th>RottenTomatoes</th>\n",
       "      <th>IMBD</th>\n",
       "      <th>MovieCritic</th>\n",
       "      <th>Julie</th>\n",
       "      <th>Trevor</th>\n",
       "      <th>Jahner</th>\n",
       "      <th>movie</th>\n",
       "    </tr>\n",
       "  </thead>\n",
       "  <tbody>\n",
       "    <tr>\n",
       "      <th>FaceOff</th>\n",
       "      <td>4</td>\n",
       "      <td>0</td>\n",
       "      <td>2</td>\n",
       "      <td>3</td>\n",
       "      <td>0</td>\n",
       "      <td>4</td>\n",
       "      <td>FaceOff</td>\n",
       "    </tr>\n",
       "    <tr>\n",
       "      <th>RaisingArizona</th>\n",
       "      <td>0</td>\n",
       "      <td>3</td>\n",
       "      <td>4</td>\n",
       "      <td>3</td>\n",
       "      <td>0</td>\n",
       "      <td>2</td>\n",
       "      <td>RaisingArizona</td>\n",
       "    </tr>\n",
       "    <tr>\n",
       "      <th>WeatherMan</th>\n",
       "      <td>0</td>\n",
       "      <td>0</td>\n",
       "      <td>4</td>\n",
       "      <td>0</td>\n",
       "      <td>1</td>\n",
       "      <td>4</td>\n",
       "      <td>WeatherMan</td>\n",
       "    </tr>\n",
       "    <tr>\n",
       "      <th>WickerMan</th>\n",
       "      <td>2</td>\n",
       "      <td>3</td>\n",
       "      <td>2</td>\n",
       "      <td>4</td>\n",
       "      <td>3</td>\n",
       "      <td>4</td>\n",
       "      <td>WickerMan</td>\n",
       "    </tr>\n",
       "    <tr>\n",
       "      <th>Adaptation</th>\n",
       "      <td>4</td>\n",
       "      <td>4</td>\n",
       "      <td>2</td>\n",
       "      <td>4</td>\n",
       "      <td>3</td>\n",
       "      <td>2</td>\n",
       "      <td>Adaptation</td>\n",
       "    </tr>\n",
       "    <tr>\n",
       "      <th>Gone60Seconds</th>\n",
       "      <td>3</td>\n",
       "      <td>0</td>\n",
       "      <td>3</td>\n",
       "      <td>1</td>\n",
       "      <td>0</td>\n",
       "      <td>4</td>\n",
       "      <td>Gone60Seconds</td>\n",
       "    </tr>\n",
       "    <tr>\n",
       "      <th>ConAir</th>\n",
       "      <td>3</td>\n",
       "      <td>3</td>\n",
       "      <td>3</td>\n",
       "      <td>0</td>\n",
       "      <td>2</td>\n",
       "      <td>0</td>\n",
       "      <td>ConAir</td>\n",
       "    </tr>\n",
       "    <tr>\n",
       "      <th>TheRock</th>\n",
       "      <td>4</td>\n",
       "      <td>0</td>\n",
       "      <td>1</td>\n",
       "      <td>1</td>\n",
       "      <td>2</td>\n",
       "      <td>1</td>\n",
       "      <td>TheRock</td>\n",
       "    </tr>\n",
       "  </tbody>\n",
       "</table>\n",
       "</div>"
      ],
      "text/plain": [
       "                RottenTomatoes  IMBD  MovieCritic  Julie  Trevor  Jahner  \\\n",
       "FaceOff                      4     0            2      3       0       4   \n",
       "RaisingArizona               0     3            4      3       0       2   \n",
       "WeatherMan                   0     0            4      0       1       4   \n",
       "WickerMan                    2     3            2      4       3       4   \n",
       "Adaptation                   4     4            2      4       3       2   \n",
       "Gone60Seconds                3     0            3      1       0       4   \n",
       "ConAir                       3     3            3      0       2       0   \n",
       "TheRock                      4     0            1      1       2       1   \n",
       "\n",
       "                         movie  \n",
       "FaceOff                FaceOff  \n",
       "RaisingArizona  RaisingArizona  \n",
       "WeatherMan          WeatherMan  \n",
       "WickerMan            WickerMan  \n",
       "Adaptation          Adaptation  \n",
       "Gone60Seconds    Gone60Seconds  \n",
       "ConAir                  ConAir  \n",
       "TheRock                TheRock  "
      ]
     },
     "execution_count": 257,
     "metadata": {},
     "output_type": "execute_result"
    }
   ],
   "source": [
    "movies = ['FaceOff','RaisingArizona','WeatherMan','WickerMan','Adaptation','Gone60Seconds','ConAir','TheRock']  \n",
    "movieRank_df['movie'] = movies  \n",
    "movieRank_df.index = movies\n",
    "movieRank_df"
   ]
  },
  {
   "cell_type": "code",
   "execution_count": 251,
   "metadata": {},
   "outputs": [
    {
     "data": {
      "text/plain": [
       "FaceOff           2.666667\n",
       "RaisingArizona    2.833333\n",
       "WeatherMan        1.500000\n",
       "WickerMan         2.000000\n",
       "Adaptation        1.166667\n",
       "Gone60Seconds     1.500000\n",
       "ConAir            2.666667\n",
       "TheRock           1.166667\n",
       "dtype: float64"
      ]
     },
     "execution_count": 251,
     "metadata": {},
     "output_type": "execute_result"
    }
   ],
   "source": [
    "movieRank_df.mean(axis=1) #mean rank per movie"
   ]
  },
  {
   "cell_type": "markdown",
   "metadata": {},
   "source": [
    "We all know these numbers are of course wrong because there's no rank below a 5 that should be given, but just an example"
   ]
  },
  {
   "cell_type": "markdown",
   "metadata": {},
   "source": [
    "## Summarizing DataFrame\n",
    "\n",
    "https://www.shanelynn.ie/summarising-aggregation-and-grouping-data-in-python-pandas/\n",
    "\n",
    "You will need **Bloom_etal_2018_Reduced_Dataset.csv** from Homework 3 python  \n",
    "\n",
    "Summarizing data is important for figures, statistics, and general reporting\n",
    "\n",
    "make sure you're in the right directory and have the correct csv"
   ]
  },
  {
   "cell_type": "code",
   "execution_count": 258,
   "metadata": {},
   "outputs": [
    {
     "name": "stdout",
     "output_type": "stream",
     "text": [
      "/data/gpfs/assoc/parchmanlab/tfaske/DataScience/Data_Science_For_Biology_II/Part.II_PythonProgramming/pandas\n"
     ]
    }
   ],
   "source": [
    "cd $pandas_dir"
   ]
  },
  {
   "cell_type": "code",
   "execution_count": 259,
   "metadata": {},
   "outputs": [
    {
     "name": "stdout",
     "output_type": "stream",
     "text": [
      "(50, 4)\n",
      "                   taxa  logbodysize  trophic_position         Reg\n",
      "0        Alosa_alabamae     1.707570          0.431364  diadromous\n",
      "1           Alosa_alosa     1.778151          0.556303  diadromous\n",
      "2          Alosa_fallax     1.778151          0.556303  diadromous\n",
      "3       Alosa_mediocris     1.778151          0.612784  diadromous\n",
      "4  Alosa_pseudoharengus     1.602060          0.544068  diadromous\n"
     ]
    }
   ],
   "source": [
    "bloom_df = pd.read_csv('Bloom_etal_2018_Reduced_Dataset.csv')\n",
    "print(bloom_df.shape)\n",
    "print(bloom_df.head())"
   ]
  },
  {
   "cell_type": "markdown",
   "metadata": {},
   "source": [
    "Let's check out how many options there are for the *Reg* column"
   ]
  },
  {
   "cell_type": "code",
   "execution_count": 260,
   "metadata": {},
   "outputs": [
    {
     "data": {
      "text/plain": [
       "array(['diadromous', 'non-diadromous'], dtype=object)"
      ]
     },
     "execution_count": 260,
     "metadata": {},
     "output_type": "execute_result"
    }
   ],
   "source": [
    "bloom_df['Reg'].unique()"
   ]
  },
  {
   "cell_type": "markdown",
   "metadata": {},
   "source": [
    "Now lets get some summary stats for *logbodysize* and *tropic_position* based on being diadromous or non-diadromous"
   ]
  },
  {
   "cell_type": "code",
   "execution_count": 287,
   "metadata": {},
   "outputs": [
    {
     "data": {
      "text/html": [
       "<div>\n",
       "<style scoped>\n",
       "    .dataframe tbody tr th:only-of-type {\n",
       "        vertical-align: middle;\n",
       "    }\n",
       "\n",
       "    .dataframe tbody tr th {\n",
       "        vertical-align: top;\n",
       "    }\n",
       "\n",
       "    .dataframe thead tr th {\n",
       "        text-align: left;\n",
       "    }\n",
       "\n",
       "    .dataframe thead tr:last-of-type th {\n",
       "        text-align: right;\n",
       "    }\n",
       "</style>\n",
       "<table border=\"1\" class=\"dataframe\">\n",
       "  <thead>\n",
       "    <tr>\n",
       "      <th></th>\n",
       "      <th colspan=\"2\" halign=\"left\">logbodysize</th>\n",
       "      <th colspan=\"2\" halign=\"left\">trophic_position</th>\n",
       "    </tr>\n",
       "    <tr>\n",
       "      <th></th>\n",
       "      <th>mean</th>\n",
       "      <th>count</th>\n",
       "      <th>mean</th>\n",
       "      <th>count</th>\n",
       "    </tr>\n",
       "    <tr>\n",
       "      <th>Reg</th>\n",
       "      <th></th>\n",
       "      <th></th>\n",
       "      <th></th>\n",
       "      <th></th>\n",
       "    </tr>\n",
       "  </thead>\n",
       "  <tbody>\n",
       "    <tr>\n",
       "      <th>diadromous</th>\n",
       "      <td>1.507245</td>\n",
       "      <td>15</td>\n",
       "      <td>0.500777</td>\n",
       "      <td>15</td>\n",
       "    </tr>\n",
       "    <tr>\n",
       "      <th>non-diadromous</th>\n",
       "      <td>0.842018</td>\n",
       "      <td>35</td>\n",
       "      <td>0.500720</td>\n",
       "      <td>35</td>\n",
       "    </tr>\n",
       "  </tbody>\n",
       "</table>\n",
       "</div>"
      ],
      "text/plain": [
       "               logbodysize       trophic_position      \n",
       "                      mean count             mean count\n",
       "Reg                                                    \n",
       "diadromous        1.507245    15         0.500777    15\n",
       "non-diadromous    0.842018    35         0.500720    35"
      ]
     },
     "execution_count": 287,
     "metadata": {},
     "output_type": "execute_result"
    }
   ],
   "source": [
    "bloom_reg_df = bloom_df.groupby('Reg',as_index=True).agg(['mean','count'])\n",
    "bloom_reg_df"
   ]
  },
  {
   "cell_type": "code",
   "execution_count": 288,
   "metadata": {},
   "outputs": [
    {
     "data": {
      "text/plain": [
       "Index(['diadromous', 'non-diadromous'], dtype='object', name='Reg')"
      ]
     },
     "execution_count": 288,
     "metadata": {},
     "output_type": "execute_result"
    }
   ],
   "source": [
    "bloom_reg_df.index"
   ]
  },
  {
   "cell_type": "markdown",
   "metadata": {},
   "source": [
    "**WARNING:** as you can see, this produced the desired result but the column names are now stacked and have what is known as a *MultiIndex* column name and needs to be flattened. You only need to worry about this if summarizing over more than one column"
   ]
  },
  {
   "cell_type": "code",
   "execution_count": 289,
   "metadata": {},
   "outputs": [
    {
     "data": {
      "text/plain": [
       "MultiIndex([(     'logbodysize',  'mean'),\n",
       "            (     'logbodysize', 'count'),\n",
       "            ('trophic_position',  'mean'),\n",
       "            ('trophic_position', 'count')],\n",
       "           )"
      ]
     },
     "execution_count": 289,
     "metadata": {},
     "output_type": "execute_result"
    }
   ],
   "source": [
    "bloom_reg_df.columns"
   ]
  },
  {
   "cell_type": "markdown",
   "metadata": {},
   "source": [
    "Let's join the MultiIndex to a single column index like we are used to."
   ]
  },
  {
   "cell_type": "code",
   "execution_count": 290,
   "metadata": {},
   "outputs": [
    {
     "data": {
      "text/html": [
       "<div>\n",
       "<style scoped>\n",
       "    .dataframe tbody tr th:only-of-type {\n",
       "        vertical-align: middle;\n",
       "    }\n",
       "\n",
       "    .dataframe tbody tr th {\n",
       "        vertical-align: top;\n",
       "    }\n",
       "\n",
       "    .dataframe thead th {\n",
       "        text-align: right;\n",
       "    }\n",
       "</style>\n",
       "<table border=\"1\" class=\"dataframe\">\n",
       "  <thead>\n",
       "    <tr style=\"text-align: right;\">\n",
       "      <th></th>\n",
       "      <th>logbodysize_mean</th>\n",
       "      <th>logbodysize_count</th>\n",
       "      <th>trophic_position_mean</th>\n",
       "      <th>trophic_position_count</th>\n",
       "    </tr>\n",
       "    <tr>\n",
       "      <th>Reg</th>\n",
       "      <th></th>\n",
       "      <th></th>\n",
       "      <th></th>\n",
       "      <th></th>\n",
       "    </tr>\n",
       "  </thead>\n",
       "  <tbody>\n",
       "    <tr>\n",
       "      <th>diadromous</th>\n",
       "      <td>1.507245</td>\n",
       "      <td>15</td>\n",
       "      <td>0.500777</td>\n",
       "      <td>15</td>\n",
       "    </tr>\n",
       "    <tr>\n",
       "      <th>non-diadromous</th>\n",
       "      <td>0.842018</td>\n",
       "      <td>35</td>\n",
       "      <td>0.500720</td>\n",
       "      <td>35</td>\n",
       "    </tr>\n",
       "  </tbody>\n",
       "</table>\n",
       "</div>"
      ],
      "text/plain": [
       "                logbodysize_mean  logbodysize_count  trophic_position_mean  \\\n",
       "Reg                                                                          \n",
       "diadromous              1.507245                 15               0.500777   \n",
       "non-diadromous          0.842018                 35               0.500720   \n",
       "\n",
       "                trophic_position_count  \n",
       "Reg                                     \n",
       "diadromous                          15  \n",
       "non-diadromous                      35  "
      ]
     },
     "execution_count": 290,
     "metadata": {},
     "output_type": "execute_result"
    }
   ],
   "source": [
    "bloom_reg_df.columns = bloom_reg_df.columns.map('_'.join)\n",
    "bloom_reg_df"
   ]
  },
  {
   "cell_type": "code",
   "execution_count": 294,
   "metadata": {},
   "outputs": [
    {
     "name": "stdout",
     "output_type": "stream",
     "text": [
      "Reg\n",
      "diadromous        15\n",
      "non-diadromous    35\n",
      "Name: logbodysize_count, dtype: int64\n",
      "Reg\n",
      "diadromous        15\n",
      "non-diadromous    35\n",
      "Name: logbodysize_count, dtype: int64\n"
     ]
    }
   ],
   "source": [
    "x = bloom_reg_df['logbodysize_count']\n",
    "print(x)\n",
    "print(x)"
   ]
  },
  {
   "cell_type": "code",
   "execution_count": null,
   "metadata": {},
   "outputs": [],
   "source": []
  },
  {
   "cell_type": "markdown",
   "metadata": {},
   "source": [
    "# ta-daaaa, you're a pandas wizard now"
   ]
  }
 ],
 "metadata": {
  "kernelspec": {
   "display_name": "Python 3",
   "language": "python",
   "name": "python3"
  },
  "language_info": {
   "codemirror_mode": {
    "name": "ipython",
    "version": 3
   },
   "file_extension": ".py",
   "mimetype": "text/x-python",
   "name": "python",
   "nbconvert_exporter": "python",
   "pygments_lexer": "ipython3",
   "version": "3.6.9"
  }
 },
 "nbformat": 4,
 "nbformat_minor": 4
}
